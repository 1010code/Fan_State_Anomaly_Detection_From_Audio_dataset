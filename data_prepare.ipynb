{
 "cells": [
  {
   "cell_type": "code",
   "execution_count": 15,
   "metadata": {},
   "outputs": [],
   "source": [
    "import os\n",
    "\n",
    "Id=[]\n",
    "for dirname, _, filenames in os.walk('data'):\n",
    "    for filename in filenames:\n",
    "        Id.append(os.path.join(dirname, filename))"
   ]
  },
  {
   "cell_type": "code",
   "execution_count": 2,
   "metadata": {},
   "outputs": [
    {
     "data": {
      "text/html": [
       "<div>\n",
       "<style scoped>\n",
       "    .dataframe tbody tr th:only-of-type {\n",
       "        vertical-align: middle;\n",
       "    }\n",
       "\n",
       "    .dataframe tbody tr th {\n",
       "        vertical-align: top;\n",
       "    }\n",
       "\n",
       "    .dataframe thead th {\n",
       "        text-align: right;\n",
       "    }\n",
       "</style>\n",
       "<table border=\"1\" class=\"dataframe\">\n",
       "  <thead>\n",
       "    <tr style=\"text-align: right;\">\n",
       "      <th></th>\n",
       "      <th>filename</th>\n",
       "    </tr>\n",
       "  </thead>\n",
       "  <tbody>\n",
       "    <tr>\n",
       "      <th>0</th>\n",
       "      <td>dataset/train/ON_20210210T012001_2.wav</td>\n",
       "    </tr>\n",
       "    <tr>\n",
       "      <th>1</th>\n",
       "      <td>dataset/train/BLADE FAULT_20200318T205806_1.wav</td>\n",
       "    </tr>\n",
       "    <tr>\n",
       "      <th>2</th>\n",
       "      <td>dataset/train/OFF_20200318T204318_4.wav</td>\n",
       "    </tr>\n",
       "    <tr>\n",
       "      <th>3</th>\n",
       "      <td>dataset/train/FAN_GUARDS_20201210144646_5.wav</td>\n",
       "    </tr>\n",
       "    <tr>\n",
       "      <th>4</th>\n",
       "      <td>dataset/train/FAN_GUARDS_20201210144646_4.wav</td>\n",
       "    </tr>\n",
       "  </tbody>\n",
       "</table>\n",
       "</div>"
      ],
      "text/plain": [
       "                                          filename\n",
       "0           dataset/train/ON_20210210T012001_2.wav\n",
       "1  dataset/train/BLADE FAULT_20200318T205806_1.wav\n",
       "2          dataset/train/OFF_20200318T204318_4.wav\n",
       "3    dataset/train/FAN_GUARDS_20201210144646_5.wav\n",
       "4    dataset/train/FAN_GUARDS_20201210144646_4.wav"
      ]
     },
     "execution_count": 2,
     "metadata": {},
     "output_type": "execute_result"
    }
   ],
   "source": [
    "import numpy as np\n",
    "import pandas as pd\n",
    "\n",
    "train=pd.DataFrame()\n",
    "train=train.assign(filename=Id)\n",
    "train.head()"
   ]
  },
  {
   "cell_type": "code",
   "execution_count": 17,
   "metadata": {},
   "outputs": [
    {
     "name": "stdout",
     "output_type": "stream",
     "text": [
      "done data/BLADE FAULT_20200318T205806.wav!\n",
      "done data/OFF_20200318T204404.wav!\n",
      "done data/ON_20200318T204819.wav!\n",
      "done data/OFF_20200318T204239.wav!\n",
      "done data/OFF_20210210T011501.wav!\n",
      "done data/ON_20200318T204617.wav!\n",
      "done data/ON_20210210T012237.wav!\n",
      "done data/OFF_20200318T204159.wav!\n",
      "done data/ON_20200318T204538.wav!\n",
      "done data/FAN_GUARDS_20201210144840.wav!\n",
      "done data/ON_20210210T012256.wav!\n",
      "done data/OFF_20200318T204107.wav!\n",
      "done data/ON_20200318T204733.wav!\n",
      "done data/TAPPING_20200318T205340.wav!\n",
      "done data/FAN_GUARDS_20201210144646.wav!\n",
      "done data/OFF_20210210T062344.wav!\n",
      "done data/BLADE FAULT_20200318T205711.wav!\n",
      "done data/ON_20200318T204654.wav!\n",
      "done data/ON_20200318T204907.wav!\n",
      "done data/OFF_20200318T204318.wav!\n",
      "done data/ON_20200318T204454.wav!\n",
      "done data/BLADE FAULT_20200318T205628.wav!\n",
      "done data/OFF_20210210T011445.wav!\n",
      "done data/TAPPING_20200318T205446.wav!\n",
      "done data/TAPPING_20200318T205523.wav!\n",
      "done data/ON_20210210T012217.wav!\n",
      "done data/ON_20210210T012029.wav!\n",
      "done data/ON_20210210T012001.wav!\n"
     ]
    }
   ],
   "source": [
    "import librosa\n",
    "import soundfile as sf\n",
    "\n",
    "for audio_path in train['filename']:\n",
    "    # 讀取音檔\n",
    "    y, sr = librosa.load(audio_path, sr=None)\n",
    "\n",
    "    # 將音檔分成六段，每段五秒\n",
    "    segment_length = 5 * sr  # 五秒的音頻長度\n",
    "    for i in range(6):\n",
    "        segment = y[i * segment_length : (i + 1) * segment_length]\n",
    "        # 產生每段的音檔名稱\n",
    "        output_path = f'dataset/{audio_path.split(\"/\")[-1].split(\".\")[0]}_{i+1}.wav'\n",
    "        # 儲存分段的音檔\n",
    "        sf.write(output_path, segment, sr)\n",
    "    print(f'done {audio_path}!')"
   ]
  },
  {
   "cell_type": "markdown",
   "metadata": {},
   "source": [
    "## 製作 dataset csv"
   ]
  },
  {
   "cell_type": "code",
   "execution_count": 12,
   "metadata": {},
   "outputs": [],
   "source": [
    "import os\n",
    "import pandas as pd\n",
    "\n",
    "def create_df_data(dataset_path):\n",
    "    Id = []\n",
    "    for dirname, _, filenames in os.walk(dataset_path):\n",
    "        for filename in filenames:\n",
    "            if filename.endswith('.wav'):\n",
    "                Id.append(os.path.join(dirname, filename))\n",
    "    \n",
    "    df_data = pd.DataFrame()\n",
    "    df_data = df_data.assign(filename=Id)\n",
    "    \n",
    "    # 建立一個包含原始標籤和對應編碼的字典\n",
    "    label_encoding = {\n",
    "        'ON': 0,\n",
    "        'OFF': 1,\n",
    "        'FAN': 2,\n",
    "        'BLADE FAULT': 3,\n",
    "        'TAPPING': 4\n",
    "    }\n",
    "    \n",
    "    df_data['label'] = df_data['filename']\n",
    "    df_data['label'] = df_data['label'].str.replace(dataset_path + '/', '').str.split('_').str[0]\n",
    "    df_data['target'] = df_data['label'].map(label_encoding)\n",
    "    \n",
    "    return df_data\n",
    "\n",
    "df_train = create_df_data('dataset/train')\n",
    "df_test = create_df_data('dataset/test')\n",
    "\n",
    "df_train.to_csv('dataset/train.csv', index=False)\n",
    "df_test.to_csv('dataset/test.csv', index=False)\n"
   ]
  },
  {
   "cell_type": "code",
   "execution_count": 17,
   "metadata": {},
   "outputs": [
    {
     "data": {
      "text/plain": [
       "ON             12\n",
       "OFF             8\n",
       "BLADE FAULT     3\n",
       "TAPPING         3\n",
       "FAN             2\n",
       "Name: label, dtype: int64"
      ]
     },
     "execution_count": 17,
     "metadata": {},
     "output_type": "execute_result"
    }
   ],
   "source": [
    "df_test['label'].value_counts()"
   ]
  },
  {
   "cell_type": "code",
   "execution_count": null,
   "metadata": {},
   "outputs": [],
   "source": []
  }
 ],
 "metadata": {
  "kernelspec": {
   "display_name": "base",
   "language": "python",
   "name": "python3"
  },
  "language_info": {
   "codemirror_mode": {
    "name": "ipython",
    "version": 3
   },
   "file_extension": ".py",
   "mimetype": "text/x-python",
   "name": "python",
   "nbconvert_exporter": "python",
   "pygments_lexer": "ipython3",
   "version": "3.11.4"
  }
 },
 "nbformat": 4,
 "nbformat_minor": 2
}
