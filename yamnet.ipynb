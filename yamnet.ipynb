{
 "cells": [
  {
   "cell_type": "markdown",
   "id": "64e4b994-52fa-41f9-9013-4dd1abb0892e",
   "metadata": {
    "tags": []
   },
   "source": [
    "## 載入資料集"
   ]
  },
  {
   "cell_type": "code",
   "execution_count": 1,
   "id": "5842a374-21e6-4ef5-9aed-4c50404d7891",
   "metadata": {
    "tags": []
   },
   "outputs": [
    {
     "data": {
      "text/html": [
       "<div>\n",
       "<style scoped>\n",
       "    .dataframe tbody tr th:only-of-type {\n",
       "        vertical-align: middle;\n",
       "    }\n",
       "\n",
       "    .dataframe tbody tr th {\n",
       "        vertical-align: top;\n",
       "    }\n",
       "\n",
       "    .dataframe thead th {\n",
       "        text-align: right;\n",
       "    }\n",
       "</style>\n",
       "<table border=\"1\" class=\"dataframe\">\n",
       "  <thead>\n",
       "    <tr style=\"text-align: right;\">\n",
       "      <th></th>\n",
       "      <th>filename</th>\n",
       "      <th>label</th>\n",
       "      <th>target</th>\n",
       "    </tr>\n",
       "  </thead>\n",
       "  <tbody>\n",
       "    <tr>\n",
       "      <th>0</th>\n",
       "      <td>dataset/train/ON_20210210T012001_2.wav</td>\n",
       "      <td>ON</td>\n",
       "      <td>0</td>\n",
       "    </tr>\n",
       "    <tr>\n",
       "      <th>1</th>\n",
       "      <td>dataset/train/BLADE FAULT_20200318T205806_1.wav</td>\n",
       "      <td>BLADE FAULT</td>\n",
       "      <td>3</td>\n",
       "    </tr>\n",
       "    <tr>\n",
       "      <th>2</th>\n",
       "      <td>dataset/train/OFF_20200318T204318_4.wav</td>\n",
       "      <td>OFF</td>\n",
       "      <td>1</td>\n",
       "    </tr>\n",
       "    <tr>\n",
       "      <th>3</th>\n",
       "      <td>dataset/train/FAN_GUARDS_20201210144646_5.wav</td>\n",
       "      <td>FAN</td>\n",
       "      <td>2</td>\n",
       "    </tr>\n",
       "    <tr>\n",
       "      <th>4</th>\n",
       "      <td>dataset/train/FAN_GUARDS_20201210144646_4.wav</td>\n",
       "      <td>FAN</td>\n",
       "      <td>2</td>\n",
       "    </tr>\n",
       "  </tbody>\n",
       "</table>\n",
       "</div>"
      ],
      "text/plain": [
       "                                          filename        label  target\n",
       "0           dataset/train/ON_20210210T012001_2.wav           ON       0\n",
       "1  dataset/train/BLADE FAULT_20200318T205806_1.wav  BLADE FAULT       3\n",
       "2          dataset/train/OFF_20200318T204318_4.wav          OFF       1\n",
       "3    dataset/train/FAN_GUARDS_20201210144646_5.wav          FAN       2\n",
       "4    dataset/train/FAN_GUARDS_20201210144646_4.wav          FAN       2"
      ]
     },
     "execution_count": 1,
     "metadata": {},
     "output_type": "execute_result"
    }
   ],
   "source": [
    "import pandas as pd\n",
    "\n",
    "train = pd.read_csv('./dataset/train.csv')\n",
    "train.head()"
   ]
  },
  {
   "cell_type": "code",
   "execution_count": 2,
   "id": "da2f398c-8aa5-4f73-b98b-5ae45347e750",
   "metadata": {
    "tags": []
   },
   "outputs": [
    {
     "name": "stdout",
     "output_type": "stream",
     "text": [
      "Training set shape: (118, 3)\n",
      "Testing set shape: (7, 3)\n"
     ]
    }
   ],
   "source": [
    "from sklearn.model_selection import train_test_split\n",
    "\n",
    "# 將資料集分為訓練集和測試集\n",
    "X_train, X_test, y_train, y_test = train_test_split(train, train['target'], test_size=0.05, stratify=train['target'], random_state=42)\n",
    "\n",
    "print('Training set shape:', X_train.shape)\n",
    "print('Testing set shape:', X_test.shape)"
   ]
  },
  {
   "cell_type": "code",
   "execution_count": 5,
   "id": "b81c7332-b05f-4cac-babb-ab64831c0924",
   "metadata": {
    "tags": []
   },
   "outputs": [
    {
     "name": "stderr",
     "output_type": "stream",
     "text": [
      "2024-01-28 15:51:49.683884: I tensorflow_io/core/kernels/cpu_check.cc:128] Your CPU supports instructions that this TensorFlow IO binary was not compiled to use: SSE3 SSE4.1 SSE4.2 AVX AVX2 FMA\n"
     ]
    },
    {
     "name": "stdout",
     "output_type": "stream",
     "text": [
      "WARNING:tensorflow:Using a while_loop for converting IO>AudioResample cause there is no registered converter for this op.\n"
     ]
    },
    {
     "name": "stderr",
     "output_type": "stream",
     "text": [
      "WARNING:tensorflow:Using a while_loop for converting IO>AudioResample cause there is no registered converter for this op.\n"
     ]
    }
   ],
   "source": [
    "import tensorflow as tf\n",
    "import tensorflow_io as tfio\n",
    "\n",
    "@tf.function\n",
    "def load_wav_16k_mono(filename):\n",
    "    \"\"\" Load a WAV file, convert it to a float tensor, resample to 16 kHz single-channel audio. \"\"\"\n",
    "    file_contents = tf.io.read_file(filename)\n",
    "    wav, sample_rate = tf.audio.decode_wav(\n",
    "        file_contents,\n",
    "        desired_channels=1)\n",
    "    wav = tf.squeeze(wav, axis=-1)\n",
    "    sample_rate = tf.cast(sample_rate, dtype=tf.int64)\n",
    "    wav = tfio.audio.resample(wav, rate_in=sample_rate, rate_out=16000)\n",
    "    return wav\n",
    "\n",
    "def load_wav_for_map(filename, label):\n",
    "    return load_wav_16k_mono(filename), label\n",
    "\n",
    "def extract_embedding(wav_data, label):\n",
    "    ''' Run YAMNet to extract embedding from the wav data '''\n",
    "    scores, embeddings, spectrogram = model(wav_data)\n",
    "    num_embeddings = tf.shape(embeddings)[0]\n",
    "    return (embeddings, tf.repeat(label, num_embeddings))\n",
    "\n",
    "def create_train_dataset(filenames, targets, batch_size=8, cache=True, shuffle_buffer_size=1000):\n",
    "    main_ds = tf.data.Dataset.from_tensor_slices((filenames, targets))\n",
    "    main_ds = main_ds.map(load_wav_for_map)\n",
    "    main_ds = main_ds.map(extract_embedding).unbatch()\n",
    "\n",
    "    if cache:\n",
    "        main_ds = main_ds.cache()\n",
    "\n",
    "    main_ds = main_ds.shuffle(shuffle_buffer_size).batch(batch_size).prefetch(tf.data.AUTOTUNE)\n",
    "\n",
    "    return main_ds\n",
    "\n",
    "\n",
    "train_ds = create_train_dataset(X_train['filename'], X_train['target'], batch_size=8, shuffle_buffer_size=250)\n",
    "test_ds = create_train_dataset(X_test['filename'], X_test['target'], batch_size=8, shuffle_buffer_size=250)"
   ]
  },
  {
   "cell_type": "markdown",
   "id": "16543818-c67f-442d-9ae1-4b5b8c225cf9",
   "metadata": {},
   "source": [
    "## 載入yamnet"
   ]
  },
  {
   "cell_type": "code",
   "execution_count": 3,
   "id": "57d606ca-374c-48e0-81c4-409bb726caea",
   "metadata": {
    "tags": []
   },
   "outputs": [
    {
     "name": "stderr",
     "output_type": "stream",
     "text": [
      "2024-01-28 15:47:15.817442: E external/local_xla/xla/stream_executor/cuda/cuda_dnn.cc:9261] Unable to register cuDNN factory: Attempting to register factory for plugin cuDNN when one has already been registered\n",
      "2024-01-28 15:47:15.817471: E external/local_xla/xla/stream_executor/cuda/cuda_fft.cc:607] Unable to register cuFFT factory: Attempting to register factory for plugin cuFFT when one has already been registered\n",
      "2024-01-28 15:47:15.818661: E external/local_xla/xla/stream_executor/cuda/cuda_blas.cc:1515] Unable to register cuBLAS factory: Attempting to register factory for plugin cuBLAS when one has already been registered\n",
      "2024-01-28 15:47:15.825286: I tensorflow/core/platform/cpu_feature_guard.cc:182] This TensorFlow binary is optimized to use available CPU instructions in performance-critical operations.\n",
      "To enable the following instructions: AVX2 FMA, in other operations, rebuild TensorFlow with the appropriate compiler flags.\n",
      "2024-01-28 15:47:16.610075: W tensorflow/compiler/tf2tensorrt/utils/py_utils.cc:38] TF-TRT Warning: Could not find TensorRT\n"
     ]
    }
   ],
   "source": [
    "import tensorflow as tf\n",
    "import tensorflow_hub as hub\n",
    "import numpy as np\n",
    "import csv\n",
    "\n",
    "import matplotlib.pyplot as plt\n",
    "from IPython.display import Audio\n",
    "from scipy.io import wavfile\n",
    "import scipy"
   ]
  },
  {
   "cell_type": "code",
   "execution_count": 4,
   "id": "942c5807-c761-417f-b490-d311a565239c",
   "metadata": {
    "tags": []
   },
   "outputs": [
    {
     "name": "stderr",
     "output_type": "stream",
     "text": [
      "2024-01-28 15:47:20.164549: E external/local_xla/xla/stream_executor/cuda/cuda_driver.cc:274] failed call to cuInit: CUDA_ERROR_NO_DEVICE: no CUDA-capable device is detected\n"
     ]
    }
   ],
   "source": [
    "# Load the model.\n",
    "model = hub.load('https://tfhub.dev/google/yamnet/1')"
   ]
  },
  {
   "cell_type": "code",
   "execution_count": 18,
   "id": "e2eda492-6491-4eb7-bc04-90e594a8158d",
   "metadata": {
    "tags": []
   },
   "outputs": [],
   "source": [
    "# # 假設你的 train_ds 已經被創建\n",
    "## https://ithelp.ithome.com.tw/articles/10241789\n",
    "# train_iterator = train_ds.as_numpy_iterator()\n",
    "\n",
    "# # 從 iterator 中獲取一個 batch 的數據\n",
    "# batch_data = next(train_iterator)\n",
    "\n",
    "# # 從 batch_data 中分別獲取數據和標籤\n",
    "# data_values = batch_data[0]  # 這裡假設數據在 batch_data 的第一個位置\n",
    "# labels = batch_data[1]  # 這裡假設標籤在 batch_data 的第二個位置\n",
    "\n",
    "# # 將 NumPy 陣列轉換為 Python 原生 list，以便更容易查看\n",
    "# data_values = data_values.tolist()\n",
    "# labels = labels.tolist()\n",
    "\n",
    "# # 打印或使用數據和標籤\n",
    "# print(\"Data values:\", data_values)\n",
    "# print(\"Labels:\", labels)"
   ]
  },
  {
   "cell_type": "markdown",
   "id": "57873ccb-9665-43e9-88a7-b1dacf1c3a25",
   "metadata": {},
   "source": [
    "## 建立遷移模型"
   ]
  },
  {
   "cell_type": "code",
   "execution_count": 6,
   "id": "8e19881f-6911-4b64-b691-d3cdb5a21ced",
   "metadata": {
    "tags": []
   },
   "outputs": [
    {
     "name": "stdout",
     "output_type": "stream",
     "text": [
      "Model: \"my_model\"\n",
      "_________________________________________________________________\n",
      " Layer (type)                Output Shape              Param #   \n",
      "=================================================================\n",
      " dense (Dense)               (None, 512)               524800    \n",
      "                                                                 \n",
      " dense_1 (Dense)             (None, 5)                 2565      \n",
      "                                                                 \n",
      "=================================================================\n",
      "Total params: 527365 (2.01 MB)\n",
      "Trainable params: 527365 (2.01 MB)\n",
      "Non-trainable params: 0 (0.00 Byte)\n",
      "_________________________________________________________________\n"
     ]
    }
   ],
   "source": [
    "tf.keras.backend.clear_session() # 清空網路暫存\n",
    "my_model = tf.keras.Sequential([\n",
    "    tf.keras.layers.Input(shape=(1024), dtype=tf.float32,\n",
    "                          name='input_embedding'),\n",
    "    tf.keras.layers.Dense(512, activation='relu'),\n",
    "    tf.keras.layers.Dense(5, activation='softmax')\n",
    "], name='my_model')\n",
    "\n",
    "my_model.summary()"
   ]
  },
  {
   "cell_type": "code",
   "execution_count": 7,
   "id": "3dec6518-488e-46e4-ab39-a794bcd4e545",
   "metadata": {
    "tags": []
   },
   "outputs": [],
   "source": [
    "my_model.compile(loss=tf.keras.losses.SparseCategoricalCrossentropy(from_logits=False),\n",
    "                 optimizer=\"adam\",\n",
    "                 metrics=['accuracy'])\n",
    "\n",
    "callback = tf.keras.callbacks.EarlyStopping(monitor='loss',\n",
    "                                            patience=3,\n",
    "                                            restore_best_weights=True)"
   ]
  },
  {
   "cell_type": "code",
   "execution_count": 8,
   "id": "064afa23-46d0-4841-bb42-78c49b9a968e",
   "metadata": {
    "tags": []
   },
   "outputs": [
    {
     "name": "stdout",
     "output_type": "stream",
     "text": [
      "Epoch 1/20\n",
      "140/140 [==============================] - 5s 22ms/step - loss: 0.1211 - accuracy: 0.9660\n",
      "Epoch 2/20\n",
      "140/140 [==============================] - 0s 2ms/step - loss: 0.0163 - accuracy: 0.9937\n",
      "Epoch 3/20\n",
      "140/140 [==============================] - 0s 2ms/step - loss: 0.0042 - accuracy: 0.9991\n",
      "Epoch 4/20\n",
      "140/140 [==============================] - 0s 2ms/step - loss: 0.0021 - accuracy: 1.0000\n",
      "Epoch 5/20\n",
      "140/140 [==============================] - 0s 2ms/step - loss: 9.3564e-04 - accuracy: 1.0000\n",
      "Epoch 6/20\n",
      "140/140 [==============================] - 0s 2ms/step - loss: 6.6570e-04 - accuracy: 1.0000\n",
      "Epoch 7/20\n",
      "140/140 [==============================] - 0s 2ms/step - loss: 4.9235e-04 - accuracy: 1.0000\n",
      "Epoch 8/20\n",
      "140/140 [==============================] - 0s 2ms/step - loss: 3.9574e-04 - accuracy: 1.0000\n",
      "Epoch 9/20\n",
      "140/140 [==============================] - 0s 2ms/step - loss: 2.8268e-04 - accuracy: 1.0000\n",
      "Epoch 10/20\n",
      "140/140 [==============================] - 0s 2ms/step - loss: 2.2223e-04 - accuracy: 1.0000\n",
      "Epoch 11/20\n",
      "140/140 [==============================] - 0s 2ms/step - loss: 1.8455e-04 - accuracy: 1.0000\n",
      "Epoch 12/20\n",
      "140/140 [==============================] - 0s 2ms/step - loss: 1.5071e-04 - accuracy: 1.0000\n",
      "Epoch 13/20\n",
      "140/140 [==============================] - 0s 2ms/step - loss: 1.2634e-04 - accuracy: 1.0000\n",
      "Epoch 14/20\n",
      "140/140 [==============================] - 0s 2ms/step - loss: 1.0595e-04 - accuracy: 1.0000\n",
      "Epoch 15/20\n",
      "140/140 [==============================] - 0s 2ms/step - loss: 9.1315e-05 - accuracy: 1.0000\n",
      "Epoch 16/20\n",
      "140/140 [==============================] - 0s 2ms/step - loss: 7.7578e-05 - accuracy: 1.0000\n",
      "Epoch 17/20\n",
      "140/140 [==============================] - 0s 2ms/step - loss: 6.7408e-05 - accuracy: 1.0000\n",
      "Epoch 18/20\n",
      "140/140 [==============================] - 0s 2ms/step - loss: 5.7833e-05 - accuracy: 1.0000\n",
      "Epoch 19/20\n",
      "140/140 [==============================] - 0s 2ms/step - loss: 5.0910e-05 - accuracy: 1.0000\n",
      "Epoch 20/20\n",
      "140/140 [==============================] - 0s 2ms/step - loss: 4.4092e-05 - accuracy: 1.0000\n"
     ]
    }
   ],
   "source": [
    "history = my_model.fit(train_ds,\n",
    "                       epochs=20,\n",
    "                       callbacks=callback)"
   ]
  },
  {
   "cell_type": "code",
   "execution_count": 9,
   "id": "4956e17b-b086-4fe1-b87e-5cd1fa161115",
   "metadata": {
    "tags": []
   },
   "outputs": [
    {
     "name": "stdout",
     "output_type": "stream",
     "text": [
      "9/9 [==============================] - 1s 3ms/step - loss: 0.0016 - accuracy: 1.0000\n",
      "Loss:  0.0015723415417596698\n",
      "Accuracy:  1.0\n"
     ]
    }
   ],
   "source": [
    "loss, accuracy = my_model.evaluate(test_ds)\n",
    "\n",
    "print(\"Loss: \", loss)\n",
    "print(\"Accuracy: \", accuracy)"
   ]
  },
  {
   "cell_type": "code",
   "execution_count": 14,
   "id": "66df3094-be47-44cb-a565-522b660f9eba",
   "metadata": {
    "tags": []
   },
   "outputs": [],
   "source": [
    "my_classes = ['ON', 'OFF', 'FAN', 'BLADE FAULT', 'TAPPING']"
   ]
  },
  {
   "cell_type": "code",
   "execution_count": 17,
   "id": "236bd50e-c1b2-4771-8258-b11c1ffd62ea",
   "metadata": {
    "tags": []
   },
   "outputs": [
    {
     "name": "stdout",
     "output_type": "stream",
     "text": [
      "pred: [ON 510] true: [ON]\n"
     ]
    }
   ],
   "source": [
    "# 驗證測試集某一筆預測\n",
    "index=39\n",
    "testing_wav_data = load_wav_16k_mono(train['filename'][index])\n",
    "# 取特徵\n",
    "scores, embeddings, spectrogram = model(testing_wav_data)\n",
    "# 預測\n",
    "result = my_model(embeddings).numpy()\n",
    "\n",
    "inferred_class = my_classes[result.mean(axis=0).argmax()]\n",
    "print(f'pred: [{inferred_class} {scores.numpy().mean(axis=0).argmax()}] true: [{train[\"label\"][index]}]')"
   ]
  },
  {
   "cell_type": "markdown",
   "id": "aa4afa9d-75f3-4a55-8103-0eda8dcfd682",
   "metadata": {},
   "source": [
    "## 測試模型"
   ]
  },
  {
   "cell_type": "code",
   "execution_count": 20,
   "id": "9404d3ef-beff-4a23-af47-70fb6d0b9b29",
   "metadata": {
    "tags": []
   },
   "outputs": [
    {
     "name": "stdout",
     "output_type": "stream",
     "text": [
      "pred: [ON 390] true: [ON]\n",
      "pred: [ON 390] true: [ON]\n",
      "pred: [BLADE FAULT 412] true: [BLADE FAULT]\n",
      "pred: [FAN 130] true: [FAN]\n",
      "pred: [OFF 494] true: [OFF]\n",
      "pred: [OFF 494] true: [OFF]\n",
      "pred: [TAPPING 398] true: [TAPPING]\n"
     ]
    }
   ],
   "source": [
    "y_pred=[]\n",
    "error_list=[]\n",
    "for i in range(len(X_test.index)):\n",
    "    index= X_test.index[i]\n",
    "    testing_wav_data = load_wav_16k_mono(train['filename'][index])\n",
    "    scores, embeddings, spectrogram = model(testing_wav_data)\n",
    "    result = my_model(embeddings).numpy()\n",
    "    y_pred.append(result.mean(axis=0).argmax())\n",
    "    inferred_class = my_classes[result.mean(axis=0).argmax()]\n",
    "    print(f'pred: [{inferred_class} {scores.numpy().mean(axis=0).argmax()}] true: [{train[\"label\"][index]}]')\n",
    "    if y_pred[i]!=train[\"target\"][index]:\n",
    "        error_list.append(index)\n",
    "error_list = np.array(error_list)"
   ]
  },
  {
   "cell_type": "code",
   "execution_count": 21,
   "id": "46d2c657-8749-4ecc-a453-58b52eaa263c",
   "metadata": {
    "tags": []
   },
   "outputs": [
    {
     "name": "stdout",
     "output_type": "stream",
     "text": [
      "              precision    recall  f1-score   support\n",
      "\n",
      "           0       1.00      1.00      1.00         2\n",
      "           1       1.00      1.00      1.00         2\n",
      "           2       1.00      1.00      1.00         1\n",
      "           3       1.00      1.00      1.00         1\n",
      "           4       1.00      1.00      1.00         1\n",
      "\n",
      "    accuracy                           1.00         7\n",
      "   macro avg       1.00      1.00      1.00         7\n",
      "weighted avg       1.00      1.00      1.00         7\n",
      "\n",
      "Accuracy: 1.0\n"
     ]
    }
   ],
   "source": [
    "from sklearn.metrics import classification_report\n",
    "from sklearn.metrics import accuracy_score\n",
    "\n",
    "print(classification_report(y_test, y_pred))\n",
    "print(\"Accuracy:\", accuracy_score(y_test, y_pred))"
   ]
  },
  {
   "cell_type": "code",
   "execution_count": 22,
   "id": "14ac640a-25a9-411f-b9df-dfa82aef8ef2",
   "metadata": {
    "tags": []
   },
   "outputs": [
    {
     "data": {
      "image/png": "[encoded data removed]",
      "text/plain": [
       "<Figure size 640x480 with 2 Axes>"
      ]
     },
     "metadata": {},
     "output_type": "display_data"
    }
   ],
   "source": [
    "from sklearn.metrics import confusion_matrix\n",
    "\n",
    "import seaborn as sns\n",
    "import matplotlib.pyplot as plt\n",
    "def plot_confusion_matrix(actual_val, pred_val, labels, title=None):\n",
    "    confusion_matrix = pd.crosstab(actual_val, pred_val,\n",
    "                                   rownames=['Actual'],\n",
    "                                   colnames=['Predicted'])\n",
    "    \n",
    "    plot = sns.heatmap(confusion_matrix, xticklabels=labels, yticklabels=labels, annot=True, fmt=',.0f')\n",
    "    \n",
    "    if title is None:\n",
    "        pass\n",
    "    else:\n",
    "        plot.set_title(title)\n",
    "        \n",
    "    plt.show()\n",
    "plot_confusion_matrix(y_test, y_pred, labels=my_classes)"
   ]
  },
  {
   "cell_type": "markdown",
   "id": "752eae6d-1449-4a6b-b4e0-ea3e751a8128",
   "metadata": {},
   "source": [
    "## 對測試集驗證"
   ]
  },
  {
   "cell_type": "code",
   "execution_count": 24,
   "id": "9876e2da-9f89-4300-9423-070d5c7622db",
   "metadata": {
    "tags": []
   },
   "outputs": [
    {
     "data": {
      "text/html": [
       "<div>\n",
       "<style scoped>\n",
       "    .dataframe tbody tr th:only-of-type {\n",
       "        vertical-align: middle;\n",
       "    }\n",
       "\n",
       "    .dataframe tbody tr th {\n",
       "        vertical-align: top;\n",
       "    }\n",
       "\n",
       "    .dataframe thead th {\n",
       "        text-align: right;\n",
       "    }\n",
       "</style>\n",
       "<table border=\"1\" class=\"dataframe\">\n",
       "  <thead>\n",
       "    <tr style=\"text-align: right;\">\n",
       "      <th></th>\n",
       "      <th>filename</th>\n",
       "      <th>label</th>\n",
       "      <th>target</th>\n",
       "    </tr>\n",
       "  </thead>\n",
       "  <tbody>\n",
       "    <tr>\n",
       "      <th>0</th>\n",
       "      <td>dataset/test/FAN_GUARDS_20201210144646_6.wav</td>\n",
       "      <td>FAN</td>\n",
       "      <td>2</td>\n",
       "    </tr>\n",
       "    <tr>\n",
       "      <th>1</th>\n",
       "      <td>dataset/test/OFF_20200318T204318_6.wav</td>\n",
       "      <td>OFF</td>\n",
       "      <td>1</td>\n",
       "    </tr>\n",
       "    <tr>\n",
       "      <th>2</th>\n",
       "      <td>dataset/test/BLADE FAULT_20200318T205806_6.wav</td>\n",
       "      <td>BLADE FAULT</td>\n",
       "      <td>3</td>\n",
       "    </tr>\n",
       "    <tr>\n",
       "      <th>3</th>\n",
       "      <td>dataset/test/OFF_20200318T204159_6.wav</td>\n",
       "      <td>OFF</td>\n",
       "      <td>1</td>\n",
       "    </tr>\n",
       "    <tr>\n",
       "      <th>4</th>\n",
       "      <td>dataset/test/OFF_20200318T204239_6.wav</td>\n",
       "      <td>OFF</td>\n",
       "      <td>1</td>\n",
       "    </tr>\n",
       "  </tbody>\n",
       "</table>\n",
       "</div>"
      ],
      "text/plain": [
       "                                         filename        label  target\n",
       "0    dataset/test/FAN_GUARDS_20201210144646_6.wav          FAN       2\n",
       "1          dataset/test/OFF_20200318T204318_6.wav          OFF       1\n",
       "2  dataset/test/BLADE FAULT_20200318T205806_6.wav  BLADE FAULT       3\n",
       "3          dataset/test/OFF_20200318T204159_6.wav          OFF       1\n",
       "4          dataset/test/OFF_20200318T204239_6.wav          OFF       1"
      ]
     },
     "execution_count": 24,
     "metadata": {},
     "output_type": "execute_result"
    }
   ],
   "source": [
    "valid = pd.read_csv('./dataset/test.csv')\n",
    "valid.head()"
   ]
  },
  {
   "cell_type": "code",
   "execution_count": 26,
   "id": "976f7fcc-0327-41e1-bf55-dc5193eb0563",
   "metadata": {
    "tags": []
   },
   "outputs": [
    {
     "name": "stdout",
     "output_type": "stream",
     "text": [
      "filename: dataset/test/FAN_GUARDS_20201210144646_6.wav pred: [FAN 337] true: [FAN]\n",
      "filename: dataset/test/OFF_20200318T204318_6.wav pred: [OFF 494] true: [OFF]\n",
      "filename: dataset/test/BLADE FAULT_20200318T205806_6.wav pred: [BLADE FAULT 392] true: [BLADE FAULT]\n",
      "filename: dataset/test/OFF_20200318T204159_6.wav pred: [OFF 494] true: [OFF]\n",
      "filename: dataset/test/OFF_20200318T204239_6.wav pred: [OFF 494] true: [OFF]\n",
      "filename: dataset/test/OFF_20200318T204107_6.wav pred: [OFF 494] true: [OFF]\n",
      "filename: dataset/test/TAPPING_20200318T205340_6.wav pred: [TAPPING 398] true: [TAPPING]\n",
      "filename: dataset/test/BLADE FAULT_20200318T205628_6.wav pred: [BLADE FAULT 412] true: [BLADE FAULT]\n",
      "filename: dataset/test/ON_20200318T204538_6.wav pred: [ON 510] true: [ON]\n",
      "filename: dataset/test/BLADE FAULT_20200318T205711_6.wav pred: [BLADE FAULT 412] true: [BLADE FAULT]\n",
      "filename: dataset/test/OFF_20210210T011501_6.wav pred: [OFF 494] true: [OFF]\n",
      "filename: dataset/test/ON_20200318T204907_6.wav pred: [ON 490] true: [ON]\n",
      "filename: dataset/test/ON_20200318T204654_6.wav pred: [ON 490] true: [ON]\n",
      "filename: dataset/test/ON_20200318T204733_6.wav pred: [ON 510] true: [ON]\n",
      "filename: dataset/test/ON_20200318T204617_6.wav pred: [ON 329] true: [ON]\n",
      "filename: dataset/test/FAN_GUARDS_20201210144840_6.wav pred: [FAN 88] true: [FAN]\n",
      "filename: dataset/test/ON_20200318T204819_6.wav pred: [ON 490] true: [ON]\n",
      "filename: dataset/test/TAPPING_20200318T205446_6.wav pred: [TAPPING 158] true: [TAPPING]\n",
      "filename: dataset/test/TAPPING_20200318T205523_6.wav pred: [TAPPING 132] true: [TAPPING]\n",
      "filename: dataset/test/OFF_20200318T204404_6.wav pred: [OFF 494] true: [OFF]\n",
      "filename: dataset/test/ON_20200318T204454_6.wav pred: [ON 490] true: [ON]\n",
      "filename: dataset/test/OFF_20210210T011445_6.wav pred: [OFF 494] true: [OFF]\n",
      "filename: dataset/test/OFF_20210210T062344_6.wav pred: [OFF 494] true: [OFF]\n"
     ]
    }
   ],
   "source": [
    "y_pred=[]\n",
    "error_list=[]\n",
    "for i in range(len(valid)):\n",
    "    index= i\n",
    "    testing_wav_data = load_wav_16k_mono(valid['filename'][index])\n",
    "    # play Audio\n",
    "    # IPython.display.display(IPython.display.Audio(testing_wav_data, rate=sample_rate))\n",
    "    scores, embeddings, spectrogram = model(testing_wav_data)\n",
    "    result = my_model(embeddings).numpy()\n",
    "    y_pred.append(result.mean(axis=0).argmax())\n",
    "    inferred_class = my_classes[result.mean(axis=0).argmax()]\n",
    "    print(f'filename: {valid[\"filename\"][index]} pred: [{inferred_class} {scores.numpy().mean(axis=0).argmax()}] true: [{valid[\"label\"][index]}]')\n",
    "    if y_pred[i]!=valid[\"target\"][index]:\n",
    "        error_list.append(index)\n",
    "error_list = np.array(error_list)"
   ]
  },
  {
   "cell_type": "code",
   "execution_count": 27,
   "id": "92071896-306b-4da0-b748-11bb47833565",
   "metadata": {
    "tags": []
   },
   "outputs": [
    {
     "name": "stdout",
     "output_type": "stream",
     "text": [
      "              precision    recall  f1-score   support\n",
      "\n",
      "           0       1.00      1.00      1.00         7\n",
      "           1       1.00      1.00      1.00         8\n",
      "           2       1.00      1.00      1.00         2\n",
      "           3       1.00      1.00      1.00         3\n",
      "           4       1.00      1.00      1.00         3\n",
      "\n",
      "    accuracy                           1.00        23\n",
      "   macro avg       1.00      1.00      1.00        23\n",
      "weighted avg       1.00      1.00      1.00        23\n",
      "\n",
      "Accuracy: 1.0\n"
     ]
    }
   ],
   "source": [
    "from sklearn.metrics import classification_report\n",
    "from sklearn.metrics import accuracy_score\n",
    "\n",
    "print(classification_report(valid['target'].values, y_pred))\n",
    "print(\"Accuracy:\", accuracy_score(valid['target'].values, y_pred))"
   ]
  },
  {
   "cell_type": "code",
   "execution_count": 28,
   "id": "d58c503c-ea36-4720-92c0-943e699eef4b",
   "metadata": {
    "tags": []
   },
   "outputs": [
    {
     "data": {
      "image/png": "[encoded data removed]",
      "text/plain": [
       "<Figure size 640x480 with 2 Axes>"
      ]
     },
     "metadata": {},
     "output_type": "display_data"
    }
   ],
   "source": [
    "from sklearn.metrics import confusion_matrix\n",
    "\n",
    "import seaborn as sns\n",
    "import matplotlib.pyplot as plt\n",
    "def plot_confusion_matrix(actual_val, pred_val, labels, title=None):\n",
    "    confusion_matrix = pd.crosstab(actual_val, pred_val,\n",
    "                                   rownames=['Actual'],\n",
    "                                   colnames=['Predicted'])\n",
    "    \n",
    "    plot = sns.heatmap(confusion_matrix, xticklabels=labels, yticklabels=labels, annot=True, fmt=',.0f')\n",
    "    \n",
    "    if title is None:\n",
    "        pass\n",
    "    else:\n",
    "        plot.set_title(title)\n",
    "        \n",
    "    plt.show()\n",
    "plot_confusion_matrix(valid['target'].values, y_pred, labels=my_classes)"
   ]
  },
  {
   "cell_type": "markdown",
   "id": "4e3bdcf7-7f2a-4ef4-bff7-c4872f7a8dd9",
   "metadata": {},
   "source": [
    "## 匯出ONNX模型"
   ]
  },
  {
   "cell_type": "code",
   "execution_count": 84,
   "id": "035302e4-774b-4ab0-b1ca-dfd34408b853",
   "metadata": {
    "tags": []
   },
   "outputs": [
    {
     "name": "stderr",
     "output_type": "stream",
     "text": [
      "2024-01-27 23:09:42.421700: I tensorflow/core/grappler/devices.cc:66] Number of eligible GPUs (core count >= 8, compute capability >= 0.0): 0\n",
      "2024-01-27 23:09:42.421855: I tensorflow/core/grappler/clusters/single_machine.cc:361] Starting new session\n",
      "2024-01-27 23:09:42.465757: I tensorflow/core/grappler/devices.cc:66] Number of eligible GPUs (core count >= 8, compute capability >= 0.0): 0\n",
      "2024-01-27 23:09:42.465896: I tensorflow/core/grappler/clusters/single_machine.cc:361] Starting new session\n"
     ]
    }
   ],
   "source": [
    "import tf2onnx\n",
    "import onnx\n",
    "onnx_model, _ = tf2onnx.convert.from_keras(my_model, opset=14)\n",
    "onnx.save(onnx_model, \"./model/tf_model.onnx\")"
   ]
  },
  {
   "cell_type": "code",
   "execution_count": null,
   "id": "6d8e63a2-617b-4a58-80cc-6e5a7fdc90da",
   "metadata": {},
   "outputs": [],
   "source": []
  }
 ],
 "metadata": {
  "kernelspec": {
   "display_name": "Python 3 (ipykernel)",
   "language": "python",
   "name": "python3"
  },
  "language_info": {
   "codemirror_mode": {
    "name": "ipython",
    "version": 3
   },
   "file_extension": ".py",
   "mimetype": "text/x-python",
   "name": "python",
   "nbconvert_exporter": "python",
   "pygments_lexer": "ipython3",
   "version": "3.9.18"
  }
 },
 "nbformat": 4,
 "nbformat_minor": 5
}
